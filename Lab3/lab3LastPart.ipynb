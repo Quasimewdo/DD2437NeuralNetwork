{
 "cells": [
  {
   "cell_type": "code",
   "execution_count": 108,
   "metadata": {},
   "outputs": [],
   "source": [
    "import matplotlib.pyplot as plt\n",
    "import numpy as np\n",
    "import itertools\n",
    "\n",
    "\n",
    "\n",
    "def recall(W, act, max_iter=10000, little_model=False, show_step=False, show_pic=False):\n",
    "    prev_prev_act = None\n",
    "    prev_act = act\n",
    "    for i in range(max_iter):\n",
    "        # print(i)\n",
    "        new_act = update_neurons(W, prev_act, little_model=little_model, show_step=show_step, show_pic=show_pic)\n",
    "        if np.array_equal(new_act, prev_act):\n",
    "            return [new_act]\n",
    "        if little_model and np.array_equal(new_act, prev_prev_act):\n",
    "            return [new_act, prev_act]\n",
    "        prev_prev_act = prev_act\n",
    "        prev_act = new_act\n",
    "    return new_act\n",
    "\n",
    "\n",
    "def update_neurons(W, act, little_model=True, show_step=False, show_pic=False):\n",
    "    if little_model:\n",
    "        return np.sign(np.sum(W*act, axis=1))\n",
    "    activations = np.copy(act)\n",
    "    order = np.arange(len(act))\n",
    "    np.random.shuffle(order)\n",
    "    for i in order:\n",
    "        if show_step and i%100 == 0:\n",
    "            if show_pic:\n",
    "                print_pic(activations)\n",
    "            print(energy(W, activations))\n",
    "        activations[i] = np.sign(np.sum(W[i,:]*activations))\n",
    "    return activations\n",
    "\n",
    "\n",
    "def sparse_recall(W, act, theta=1, max_iter=50):\n",
    "    old = np.copy(act)\n",
    "    new = sparse_update_neurons(W, old, theta=theta)\n",
    "    tour = 1\n",
    "    while not np.array_equal(old, new) or tour >= max_iter:\n",
    "        new, old = sparse_update_neurons(W, new, theta=theta), new\n",
    "        tour += 1\n",
    "    return new\n",
    "\n",
    "\n",
    "def sparse_update_neurons(W, act, theta=1):\n",
    "    res = np.copy(act)\n",
    "    for i in range(len(act)):\n",
    "        res[i] = 0.5 + 0.5 * np.sign(np.dot(W[i], act) - theta)\n",
    "    return res\n",
    "\n",
    "\n",
    "def learn(patterns, W=None, nodiag=True, scale=True):\n",
    "    P = np.shape(patterns)[0] # Number of patterns\n",
    "    N = np.shape(patterns)[1] # Number of units\n",
    "    if W is None:\n",
    "        W = np.zeros((N, N))\n",
    "    for u in range(P):\n",
    "        W += np.outer(patterns[u], patterns[u])\n",
    "    if nodiag:\n",
    "        W -= np.diag(np.diag(W)) # Remove self-connections\n",
    "\n",
    "    if scale:\n",
    "        return W/N\n",
    "    else:\n",
    "        return W\n",
    "\n",
    "\n",
    "def sparse_learn(patterns, activity):\n",
    "    P = np.shape(patterns)[0] # Number of patterns\n",
    "    N = np.shape(patterns)[1] # Number of units\n",
    "    W = np.zeros((N, N))\n",
    "    for i in range(N):\n",
    "        for j in range(N):\n",
    "            for u in range(P):\n",
    "                W[i][j] += (patterns[u][i]-activity)*(patterns[u][j]-activity)\n",
    "    W -= np.diag(np.diag(W)) # Remove self-connections\n",
    "    return W\n",
    "\n",
    "\n",
    "def attractors(W, pattern_dim):\n",
    "    res = 0\n",
    "    attr = []\n",
    "    for pattern in list(itertools.product([-1, 1], repeat=pattern_dim)):\n",
    "        if np.array_equal(pattern, update_neurons(W, pattern)):\n",
    "            attr.append(pattern)\n",
    "            res += 1\n",
    "    return res, attr\n",
    "\n",
    "\n",
    "\n",
    "def random_weights():\n",
    "    W = np.random.normal(0, 1, size=(8, 8))\n",
    "    # print(recall(W, [1, 1,  1, -1,  1, -1, 1,  1], little_model=False, show_step=True))\n",
    "    print(attractors(W, 8))\n",
    "\n",
    "\n",
    "def import_pict():\n",
    "    return np.reshape(np.loadtxt('pict.dat', delimiter=','), (11, 1024))\n",
    "\n",
    "\n",
    "def print_pic(pic):\n",
    "    # Build image\n",
    "    img = np.zeros((32, 32, 3))\n",
    "    for i in range (32):\n",
    "        for j in range(32):\n",
    "            img[i][j] = [0, 0, 0] if pic[i*32+j]==-1 else [1, 1, 1]\n",
    "    plt.imshow(img)\n",
    "    plt.show()\n",
    "\n",
    "\n",
    "\n",
    "def random_pics_capacity_stats():\n",
    "    nb_patterns = np.arange(5, int(0.138*1024)+5, 5)\n",
    "    repeat = 10\n",
    "    n = 1024\n",
    "    noise_amount = int(0.05*n)\n",
    "    stats = np.zeros((len(nb_patterns), 4))\n",
    "    for i in range(len(nb_patterns)):\n",
    "        scores = []\n",
    "        #stability_scores = []\n",
    "        for _ in range(repeat):\n",
    "            patterns = np.sign(np.random.uniform(-1, 1, (nb_patterns[i],n)))\n",
    "            W = learn(patterns, nodiag=False)\n",
    "            score = 0\n",
    "            #stability_score = 0\n",
    "            for p in range(len(patterns)):\n",
    "                noisy_p = np.copy(patterns[p])\n",
    "                indexes = np.random.choice(n, noise_amount, replace=False)\n",
    "                for j in indexes:\n",
    "                    noisy_p[j] *= -1\n",
    "                if (np.array_equal(recall(W, noisy_p, little_model=True)[0], patterns[p])):\n",
    "                    score += 1\n",
    "#                 if np.array_equal(update_neurons(W, patterns[p]), patterns[p]):\n",
    "#                     stability_score += 1\n",
    "            scores.append(score/nb_patterns[i])\n",
    "#             stability_scores.append(stability_score/nb_patterns[i])\n",
    "        stats[i][0] = np.average(scores)\n",
    "        print(nb_patterns[i], \":\", stats[i][0])\n",
    "        stats[i][1] = np.std(scores)\n",
    "#         stats[i][2] = np.average(stability_scores)\n",
    "#         stats[i][3] = np.std(stability_scores)\n",
    "    plt.errorbar(nb_patterns, stats[:, 0], yerr=stats[:, 1], label=\"Score (5% noise)\")\n",
    "    #plt.errorbar(nb_patterns, stats[:, 2], yerr=stats[:, 3], label=\"Stability score\")\n",
    "    plt.ylim(0, 1)\n",
    "    plt.xlabel(\"Number of learned patterns\")\n",
    "    plt.ylabel(\"Score for recontructing noisy patterns\")\n",
    "    plt.title(\"Capacity of network\")\n",
    "    plt.legend(loc=\"lower left\")\n",
    "    plt.show()\n",
    "\n",
    "\n",
    "def add_noise(noise_prop, pattern):\n",
    "    n = len(pattern)\n",
    "    noisy_p = np.copy(pattern)\n",
    "    indexes = np.random.choice(n, int(noise_prop * n), replace=False)\n",
    "    for j in indexes:\n",
    "        noisy_p[j] *= -1\n",
    "    return noisy_p\n",
    "\n",
    "\n",
    "\n",
    "def capacity():\n",
    "    \"\"\"\n",
    "    manually search for how many patterns can be stored\n",
    "    :return:\n",
    "    \"\"\"\n",
    "    storage = 4\n",
    "    noise_rate = 0\n",
    "    pictures = import_pict()\n",
    "    patterns, distorted_patterns = np.split(pictures, [9])\n",
    "    #p = np.array([patterns[1], patterns[2], patterns[3], patterns[4]])\n",
    "    p = np.array([patterns[1], patterns[4], patterns[7], patterns[8]])\n",
    "    W = learn(p)\n",
    "\n",
    "    for i in range(storage):\n",
    "        noisy_pattern = add_noise(noise_rate, p[i])\n",
    "        pic = recall(W, noisy_pattern)[0]\n",
    "        if np.array_equal(pic, p[i]) is False:\n",
    "            print(\"pic\", i, \"not correctly recalled\")\n",
    "        else:\n",
    "            print(\"pic\", i, \"correctly recalled\")\n",
    "        print_pic(pic)\n",
    "\n",
    "\n",
    "def hundred_unit():\n",
    "    \"\"\"\n",
    "    trains 300 patterns on a 100 unit network\n",
    "    :return:\n",
    "    \"\"\"\n",
    "    #patterns = np.random.choice([-1, 1], (300, 10), replace=True)\n",
    "    W = np.zeros((10, 10))\n",
    "    stable = np.zeros(300)\n",
    "    f1_stable = np.zeros(300)\n",
    "    patterns = np.sign(0.5 + np.random.normal(0, 1, size=(300, 10)))\n",
    "\n",
    "    for i in range(300):\n",
    "        W = learn(patterns[:i+1], nodiag=False, scale=True)\n",
    "        for j in range(i+1):\n",
    "            p = patterns[j]\n",
    "            out = recall(W, p, max_iter=1)[0]\n",
    "\n",
    "            # distortion\n",
    "            flip1 = add_noise(0.1, patterns[j])\n",
    "            flip1 = recall(W, flip1, max_iter=50)[0]\n",
    "\n",
    "            if np.array_equal(patterns[j], flip1):\n",
    "                f1_stable[i] += 1\n",
    "                # print(\"pattern\", j, \"recalled for\", i, \"stored images\")\n",
    "\n",
    "            if np.array_equal(patterns[j], out):\n",
    "                stable[i] += 1\n",
    "                #print(patterns[j])\n",
    "\n",
    "    x = np.arange(1, 301, 1)\n",
    "    plt.plot(x, stable, x, f1_stable )\n",
    "    plt.xlabel(\"Number of patterns added\")\n",
    "    plt.ylabel(\"Number of stable patterns\")\n",
    "    plt.title(\"100-unit network\")\n",
    "    plt.legend([\"No distortion\", \"1 flipped unit\"])\n",
    "    plt.show()\n",
    "\n",
    "\n",
    "def sparse_patterns():\n",
    "    activity = 0.01\n",
    "    n = 100\n",
    "    thetas = np.arange(0, 2, 0.2)\n",
    "    #thetas = [1.2]\n",
    "    noise_qty = int(0.05*n)\n",
    "    repeat = 5\n",
    "    stats = np.zeros((len(thetas),))\n",
    "    #for i in range(len(thetas)):\n",
    "    for i in range(len(thetas)):\n",
    "        #print(\"theta\", thetas[i])\n",
    "        for nb_patterns in range(2, 14, 2):\n",
    "            for _ in range(5):\n",
    "                patterns = np.zeros((nb_patterns, n))\n",
    "                indexes = np.random.choice(n*nb_patterns, int(activity*n*nb_patterns), replace=False)\n",
    "                print('nb_patterns  : '+str(nb_patterns))\n",
    "                print('indexes')\n",
    "                print(indexes)\n",
    "                \n",
    "                for index in indexes:\n",
    "                    n_pattern = index // n\n",
    "                    n_unit = index % n\n",
    "                    patterns[n_pattern][n_unit] = 1\n",
    "                W = sparse_learn(patterns, activity)\n",
    "                score = 0\n",
    "                print('nb_patterns : '+str(nb_patterns))\n",
    "                print('-----------')\n",
    "                for j in range(nb_patterns):\n",
    "                    act = sparse_update_neurons(W, patterns[j], theta=thetas[i])\n",
    "                    if np.array_equal(patterns[j], act):\n",
    "                        score += 1\n",
    "#                 score = score/nb_patterns\n",
    "#             stats[i] = np.average(scores)\n",
    "                if score == nb_patterns:\n",
    "                    stats[i] = nb_patterns\n",
    "\n",
    "    #plt.plot(thetas, stats, label=\"Number of patterns\")\n",
    "    plt.plot(thetas, stats)\n",
    "    plt.xlabel(\"Theta\")\n",
    "    plt.ylabel(\"Number of patterns\")\n",
    "    plt.title(\"Number of retrievable patterns (p=\"+str(activity)+\")\")\n",
    "    plt.legend(loc=\"lower left\")\n",
    "    plt.show()\n"
   ]
  },
  {
   "cell_type": "code",
   "execution_count": 110,
   "metadata": {},
   "outputs": [
    {
     "name": "stdout",
     "output_type": "stream",
     "text": [
      "[0.  0.2 0.4 0.6 0.8 1.  1.2 1.4 1.6 1.8]\n"
     ]
    }
   ],
   "source": [
    "thetas = np.arange(0, 2, 0.2)\n",
    "print(thetas)"
   ]
  },
  {
   "cell_type": "code",
   "execution_count": 96,
   "metadata": {},
   "outputs": [
    {
     "data": {
      "image/png": "[encoded data removed]",
      "text/plain": [
       "<Figure size 432x288 with 1 Axes>"
      ]
     },
     "metadata": {
      "needs_background": "light"
     },
     "output_type": "display_data"
    }
   ],
   "source": [
    "hundred_unit()"
   ]
  },
  {
   "cell_type": "code",
   "execution_count": 21,
   "metadata": {},
   "outputs": [],
   "source": [
    "from random import randrange\n",
    "def real_random_update_til_converge(pattern, W, \n",
    "                        return_iterations=True,max_iter=10000):\n",
    "    prev_act = pattern\n",
    "    new_act = np.zeros(pattern.shape)\n",
    "    iterations = 0\n",
    "    while not (prev_act == new_act).all():\n",
    "        prev_act = new_act        \n",
    "        #random_i = randrange(weights.shape[0])\n",
    "        new_act = update_neurons(W, prev_act)\n",
    "        iterations += 1\n",
    "        if iterations>max_iter:\n",
    "            print('could not restore')\n",
    "            break\n",
    "    print(iterations)    \n",
    "    if return_iterations:\n",
    "        return new_act, iterations\n",
    "    \n",
    "    return new_act"
   ]
  },
  {
   "cell_type": "code",
   "execution_count": 25,
   "metadata": {},
   "outputs": [],
   "source": [
    "pictures = import_pict()\n",
    "patterns, distorted_patterns = np.split(pictures, [9])\n",
    "p = np.array([patterns[0], patterns[1], patterns[2], patterns[3]])\n",
    "# weights = learn(p)\n",
    "# updated = real_random_update_til_converge(p[1], weights, return_iterations=True)"
   ]
  },
  {
   "cell_type": "code",
   "execution_count": 127,
   "metadata": {},
   "outputs": [],
   "source": [
    "def add_noise(pattern, ratio):\n",
    "    new_pattern = np.array(pattern)\n",
    "    indices = np.random.choice(np.arange(len(pattern)), \n",
    "                               size=int(ratio*len(pattern)),\n",
    "                               replace=False)\n",
    "    new_pattern[indices] = np.where(pattern[indices] == 1, -1, 1)\n",
    "    return new_pattern"
   ]
  },
  {
   "cell_type": "code",
   "execution_count": 42,
   "metadata": {},
   "outputs": [],
   "source": [
    "def real_random_update_til_converge(pattern, weights, \n",
    "                        return_iterations=True):\n",
    "    updated = pattern\n",
    "    prev = np.zeros(pattern.shape)\n",
    "    iterations = 0\n",
    "    while not (updated == prev).all():\n",
    "        prev = updated        \n",
    "        random_i = randrange(weights.shape[0])\n",
    "        updated[random_i] = update_rule(prev, weights[random_i,:])\n",
    "        \n",
    "        iterations += 1\n",
    "        \n",
    "    if return_iterations:\n",
    "        return updated, iterations\n",
    "    \n",
    "    return updated"
   ]
  },
  {
   "cell_type": "code",
   "execution_count": 29,
   "metadata": {},
   "outputs": [],
   "source": [
    "def update_rule(pattern, weights):\n",
    "    return sign(np.dot(pattern, weights))"
   ]
  },
  {
   "cell_type": "code",
   "execution_count": 129,
   "metadata": {},
   "outputs": [],
   "source": [
    "def recall(W, act, max_iter=10000, little_model=False, show_step=False, show_pic=False):\n",
    "\n",
    "    prev_prev_act = None\n",
    "    prev_act = act\n",
    "    for i in range(max_iter):\n",
    "        # print(i)\n",
    "        new_act = update_neurons(W, prev_act, little_model=little_model, show_step=show_step, show_pic=show_pic)\n",
    "        if (new_act == prev_act).all():\n",
    "            return True,i\n",
    "#         if np.array_equal(new_act, prev_act):\n",
    "#             return True,i\n",
    "        prev_act = new_act\n",
    "    return False,i"
   ]
  },
  {
   "cell_type": "code",
   "execution_count": 136,
   "metadata": {},
   "outputs": [],
   "source": [
    "pictures = import_pict()\n",
    "patterns, distorted_patterns = np.split(pictures, [9])\n",
    "p = np.array([patterns[4], patterns[1], patterns[2], patterns[4]])\n",
    "PATTERNS = {\"p1\": p[0], \"p2\": p[1], \"p3\":p[2], \"p7\":p[3]}\n",
    "MAX_RATIO = 0.1\n",
    "weights = learn(p)\n",
    "\n",
    "def convergence_of_noisy_patterns(patterns_dict, weights, max_ratio, iterations=10):\n",
    "    converges = {}\n",
    "    #terations_count = {}\n",
    "    ratios = np.arange(0, max_ratio, 0.01)\n",
    "\n",
    "    for pattern in patterns_dict:\n",
    "        print(pattern)\n",
    "        print(len(patterns_dict[pattern]))\n",
    "        converges[pattern] = []\n",
    "        #terations_count[pattern] = []\n",
    "        \n",
    "        for ratio in ratios:\n",
    "            score_sum = 0.0\n",
    "            iterations_sum = 0.0\n",
    "           \n",
    "            #or iteration in range(iterations):\n",
    "            noise_pattern = add_noise(patterns_dict[pattern], ratio)\n",
    "            #pdated, update_iters = real_random_update_til_converge(noise_pattern, weights, True)\n",
    "            check, update_iters =recall(weights,noise_pattern)\n",
    "            if check:\n",
    "                print('pattern : '+str(pattern))\n",
    "                print('success')\n",
    "                print(update_iters)\n",
    "            else:\n",
    "                print('pattern : '+str(pattern))\n",
    "                print('fail')  \n",
    "            #terations_sum += update_iters\n",
    "\n",
    "            converges[pattern].append(score_sum/iterations)\n",
    "            #terations_count[pattern].append(iterations_sum/iterations)\n",
    "        \n",
    "#     fig = plt.figure()\n",
    "#     for val in patterns_dict.keys():\n",
    "#         plt.plot(ratios, converges[val], label=val)\n",
    "#     plt.legend()\n",
    "#     plt.xlabel(\"Ratio\")\n",
    "#     plt.ylabel(\"Avg Score\")\n",
    "#     plt.title(\"Classification of noisy training patterns\")\n",
    "    \n",
    "#     return fig"
   ]
  },
  {
   "cell_type": "code",
   "execution_count": 137,
   "metadata": {},
   "outputs": [],
   "source": [
    "def sign(x):\n",
    "    return np.where(x < 0, -1, 1)"
   ]
  },
  {
   "cell_type": "code",
   "execution_count": 138,
   "metadata": {},
   "outputs": [
    {
     "name": "stdout",
     "output_type": "stream",
     "text": [
      "p1\n",
      "1024\n",
      "pattern : p1\n",
      "success\n",
      "0\n",
      "pattern : p1\n",
      "success\n",
      "1\n",
      "pattern : p1\n",
      "success\n",
      "1\n",
      "pattern : p1\n",
      "success\n",
      "1\n",
      "pattern : p1\n",
      "success\n",
      "1\n",
      "pattern : p1\n",
      "success\n",
      "1\n",
      "pattern : p1\n",
      "success\n",
      "1\n",
      "pattern : p1\n",
      "success\n",
      "1\n",
      "pattern : p1\n",
      "success\n",
      "1\n",
      "pattern : p1\n",
      "success\n",
      "1\n",
      "p2\n",
      "1024\n",
      "pattern : p2\n",
      "success\n",
      "2\n",
      "pattern : p2\n",
      "success\n",
      "2\n",
      "pattern : p2\n",
      "success\n",
      "2\n",
      "pattern : p2\n",
      "success\n",
      "2\n",
      "pattern : p2\n",
      "success\n",
      "2\n",
      "pattern : p2\n",
      "success\n",
      "3\n",
      "pattern : p2\n",
      "success\n",
      "2\n",
      "pattern : p2\n",
      "success\n",
      "2\n",
      "pattern : p2\n",
      "success\n",
      "3\n",
      "pattern : p2\n",
      "success\n",
      "3\n",
      "p3\n",
      "1024\n",
      "pattern : p3\n",
      "success\n",
      "2\n",
      "pattern : p3\n",
      "success\n",
      "2\n",
      "pattern : p3\n",
      "success\n",
      "2\n",
      "pattern : p3\n",
      "success\n",
      "2\n",
      "pattern : p3\n",
      "success\n",
      "2\n",
      "pattern : p3\n",
      "success\n",
      "2\n",
      "pattern : p3\n",
      "success\n",
      "3\n",
      "pattern : p3\n",
      "success\n",
      "2\n",
      "pattern : p3\n",
      "success\n",
      "2\n",
      "pattern : p3\n",
      "success\n",
      "3\n",
      "p7\n",
      "1024\n",
      "pattern : p7\n",
      "success\n",
      "0\n",
      "pattern : p7\n",
      "success\n",
      "1\n",
      "pattern : p7\n",
      "success\n",
      "1\n",
      "pattern : p7\n",
      "success\n",
      "1\n",
      "pattern : p7\n",
      "success\n",
      "1\n",
      "pattern : p7\n",
      "success\n",
      "1\n",
      "pattern : p7\n",
      "success\n",
      "1\n",
      "pattern : p7\n",
      "success\n",
      "1\n",
      "pattern : p7\n",
      "success\n",
      "1\n",
      "pattern : p7\n",
      "success\n",
      "1\n"
     ]
    }
   ],
   "source": [
    "convergence_of_noisy_patterns(PATTERNS, weights, MAX_RATIO, iterations=1000)"
   ]
  },
  {
   "cell_type": "code",
   "execution_count": 70,
   "metadata": {},
   "outputs": [
    {
     "name": "stdout",
     "output_type": "stream",
     "text": [
      "pic 0 correctly recalled\n"
     ]
    },
    {
     "data": {
      "image/png": "[encoded data removed]",
      "text/plain": [
       "<Figure size 432x288 with 1 Axes>"
      ]
     },
     "metadata": {
      "needs_background": "light"
     },
     "output_type": "display_data"
    },
    {
     "name": "stdout",
     "output_type": "stream",
     "text": [
      "pic 1 correctly recalled\n"
     ]
    },
    {
     "data": {
      "image/png": "[encoded data removed]",
      "text/plain": [
       "<Figure size 432x288 with 1 Axes>"
      ]
     },
     "metadata": {
      "needs_background": "light"
     },
     "output_type": "display_data"
    },
    {
     "name": "stdout",
     "output_type": "stream",
     "text": [
      "pic 2 correctly recalled\n"
     ]
    },
    {
     "data": {
      "image/png": "[encoded data removed]",
      "text/plain": [
       "<Figure size 432x288 with 1 Axes>"
      ]
     },
     "metadata": {
      "needs_background": "light"
     },
     "output_type": "display_data"
    },
    {
     "name": "stdout",
     "output_type": "stream",
     "text": [
      "pic 3 correctly recalled\n"
     ]
    },
    {
     "data": {
      "image/png": "[encoded data removed]",
      "text/plain": [
       "<Figure size 432x288 with 1 Axes>"
      ]
     },
     "metadata": {
      "needs_background": "light"
     },
     "output_type": "display_data"
    }
   ],
   "source": [
    "##3.5.1\n",
    "capacity()"
   ]
  },
  {
   "cell_type": "markdown",
   "metadata": {},
   "source": [
    "### random patterns have better performance than pictures"
   ]
  },
  {
   "cell_type": "code",
   "execution_count": 5,
   "metadata": {},
   "outputs": [
    {
     "name": "stdout",
     "output_type": "stream",
     "text": [
      "5 : 1.0\n",
      "10 : 1.0\n",
      "15 : 1.0\n",
      "20 : 1.0\n",
      "25 : 1.0\n",
      "30 : 1.0\n",
      "35 : 1.0\n",
      "40 : 1.0\n",
      "45 : 1.0\n",
      "50 : 0.998\n",
      "55 : 0.9927272727272728\n",
      "60 : 0.9833333333333332\n",
      "65 : 0.9676923076923079\n",
      "70 : 0.9414285714285715\n",
      "75 : 0.9093333333333333\n",
      "80 : 0.8712500000000001\n",
      "85 : 0.8070588235294117\n",
      "90 : 0.7288888888888889\n",
      "95 : 0.6610526315789473\n",
      "100 : 0.5780000000000001\n",
      "105 : 0.47714285714285715\n",
      "110 : 0.4354545454545454\n",
      "115 : 0.3173913043478261\n",
      "120 : 0.29666666666666663\n",
      "125 : 0.22160000000000002\n",
      "130 : 0.17384615384615387\n",
      "135 : 0.12592592592592594\n",
      "140 : 0.08785714285714284\n",
      "145 : 0.059310344827586216\n"
     ]
    },
    {
     "data": {
      "image/png": "[encoded data removed]",
      "text/plain": [
       "<Figure size 432x288 with 1 Axes>"
      ]
     },
     "metadata": {
      "needs_background": "light"
     },
     "output_type": "display_data"
    }
   ],
   "source": [
    "##3.5.2&3.5.3\n",
    "random_pics_capacity_stats()"
   ]
  },
  {
   "cell_type": "code",
   "execution_count": 81,
   "metadata": {},
   "outputs": [
    {
     "data": {
      "image/png": "[encoded data removed]",
      "text/plain": [
       "<Figure size 432x288 with 1 Axes>"
      ]
     },
     "metadata": {
      "needs_background": "light"
     },
     "output_type": "display_data"
    }
   ],
   "source": [
    "##3.5.4&3.5.5\n",
    "hundred_unit()"
   ]
  },
  {
   "cell_type": "code",
   "execution_count": null,
   "metadata": {},
   "outputs": [],
   "source": []
  }
 ],
 "metadata": {
  "kernelspec": {
   "display_name": "Python 3",
   "language": "python",
   "name": "python3"
  },
  "language_info": {
   "codemirror_mode": {
    "name": "ipython",
    "version": 3
   },
   "file_extension": ".py",
   "mimetype": "text/x-python",
   "name": "python",
   "nbconvert_exporter": "python",
   "pygments_lexer": "ipython3",
   "version": "3.6.9"
  }
 },
 "nbformat": 4,
 "nbformat_minor": 4
}
