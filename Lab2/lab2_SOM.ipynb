{
 "cells": [
  {
   "cell_type": "markdown",
   "metadata": {},
   "source": [
    "## 4.1 Animal species"
   ]
  },
  {
   "cell_type": "code",
   "execution_count": 56,
   "metadata": {},
   "outputs": [],
   "source": [
    "import numpy as np\n",
    "import matplotlib.pyplot as plt\n",
    "import random"
   ]
  },
  {
   "cell_type": "code",
   "execution_count": 57,
   "metadata": {},
   "outputs": [],
   "source": [
    "animals = 32\n",
    "dim = 84\n",
    "hidden_nodes = 100"
   ]
  },
  {
   "cell_type": "code",
   "execution_count": 58,
   "metadata": {},
   "outputs": [],
   "source": [
    "def read_data(file='animals'):\n",
    "    filename = \"data/data/animals.dat\"\n",
    "    inputs = np.zeros((animals, dim))\n",
    "    with open(filename) as f:\n",
    "        data = f.read().split(',')\n",
    "        for i in range(animals):\n",
    "            inputs[i,:] = data[i*dim : (i+1)*dim]\n",
    "        return inputs"
   ]
  },
  {
   "cell_type": "code",
   "execution_count": 59,
   "metadata": {},
   "outputs": [],
   "source": [
    "def generate_weights(size, sigma=0.01):\n",
    "    return np.random.normal(0, sigma, size)"
   ]
  },
  {
   "cell_type": "code",
   "execution_count": 60,
   "metadata": {},
   "outputs": [],
   "source": [
    "weights = generate_weights((hidden_nodes, dim))\n",
    "inputs = read_data()"
   ]
  },
  {
   "cell_type": "code",
   "execution_count": 61,
   "metadata": {},
   "outputs": [],
   "source": [
    "def neighborhood(idx, epoch, max_range):\n",
    "    nbrhd_range = int(50 - epoch*2.5)\n",
    "    nbrhd_min = np.max([0, idx-nbrhd_range])\n",
    "    nbrhd_max = np.min([max_range, idx+nbrhd_range])\n",
    "    return np.arange(nbrhd_min, nbrhd_max)"
   ]
  },
  {
   "cell_type": "code",
   "execution_count": 62,
   "metadata": {},
   "outputs": [],
   "source": [
    "def train_SOM_animals(inputs, weights, lr=0.2, epochs=20):\n",
    "    for epoch in range(epochs):\n",
    "        for i in range(animals):\n",
    "            distances = np.sum(np.square(inputs[i,:]-weights), axis=1) #input [84,] , weights[100,84]\n",
    "            winner = np.argmin(distances)\n",
    "            weights[winner,:] = weights[winner,:] + lr * (inputs[i,:] - weights[winner,:])\n",
    "            # Update weights in neighborhood\n",
    "            neighbors = neighborhood(winner, epoch, hidden_nodes)\n",
    "            weights[neighbors,:] = weights[neighbors,:] + 0.5*lr * (inputs[i,:] - weights[neighbors,:])\n",
    "    return weights"
   ]
  },
  {
   "cell_type": "code",
   "execution_count": 34,
   "metadata": {},
   "outputs": [],
   "source": [
    "def train_SOM_animals(inputs, weights, lr=0.2, epochs=20):\n",
    "    for epoch in range(epochs):\n",
    "        for i in range(animals):\n",
    "            distances = np.sum(np.square(inputs[i,:]-weights), axis=1) #input [84,] , weights[100,84]\n",
    "            winner = np.argmin(distances)\n",
    "            # Update weights in neighborhood\n",
    "            neighbors = neighborhood(winner, epoch, hidden_nodes)\n",
    "            weights[neighbors,:] = weights[neighbors,:] + lr * (inputs[i,:] - weights[neighbors,:])\n",
    "    return weights"
   ]
  },
  {
   "cell_type": "code",
   "execution_count": 63,
   "metadata": {},
   "outputs": [],
   "source": [
    "w_trained = train_SOM_animals(inputs, weights)"
   ]
  },
  {
   "cell_type": "code",
   "execution_count": 64,
   "metadata": {},
   "outputs": [],
   "source": [
    "def get_animal_names():\n",
    "    with open(\"data/data/animalnames.txt\") as f:\n",
    "            mylist = f.read().splitlines() \n",
    "    return mylist"
   ]
  },
  {
   "cell_type": "code",
   "execution_count": 65,
   "metadata": {},
   "outputs": [],
   "source": [
    "def print_som_results(props, weights):\n",
    "    pos = {}\n",
    "    for animalNdx in range(animals):\n",
    "        similarity = np.sum(np.square(props[animalNdx,:] - weights), axis=1)\n",
    "        # similarity = [100]\n",
    "        pos[animalNdx] = np.argmin(similarity)\n",
    "    sorted_pos = sorted(pos.items(), key=lambda kv: kv[1])\n",
    "    animal_names = get_animal_names()\n",
    "    for ndx in sorted_pos:\n",
    "        print(animal_names[ndx[0]])"
   ]
  },
  {
   "cell_type": "code",
   "execution_count": 66,
   "metadata": {},
   "outputs": [
    {
     "name": "stdout",
     "output_type": "stream",
     "text": [
      "bat\n",
      "elephant\n",
      "camel\n",
      "giraffe\n",
      "pig\n",
      "cat\n",
      "lion\n",
      "antelop\n",
      "horse\n",
      "ape\n",
      "kangaroo\n",
      "skunk\n",
      "rat\n",
      "dog\n",
      "hyena\n",
      "rabbit\n",
      "bear\n",
      "walrus\n",
      "frog\n",
      "crocodile\n",
      "seaturtle\n",
      "penguin\n",
      "duck\n",
      "pelican\n",
      "ostrich\n",
      "spider\n",
      "housefly\n",
      "butterfly\n",
      "moskito\n",
      "beetle\n",
      "dragonfly\n",
      "grasshopper\n"
     ]
    }
   ],
   "source": [
    "animal_names = get_animal_names()\n",
    "print_som_results(inputs, w_trained)"
   ]
  },
  {
   "cell_type": "markdown",
   "metadata": {},
   "source": [
    "## 4.2 city tour"
   ]
  },
  {
   "cell_type": "code",
   "execution_count": 1,
   "metadata": {},
   "outputs": [],
   "source": [
    "import numpy as np\n",
    "import matplotlib.pyplot as plt"
   ]
  },
  {
   "cell_type": "code",
   "execution_count": 2,
   "metadata": {},
   "outputs": [],
   "source": [
    "features = 2\n",
    "cities = 10\n",
    "hidden_nodes = 20"
   ]
  },
  {
   "cell_type": "code",
   "execution_count": 17,
   "metadata": {},
   "outputs": [],
   "source": [
    "def get_cities(file='cities'):\n",
    "    filename = \"data/data/cities.dat\"\n",
    "    with open(filename) as f:\n",
    "        lines = f.readlines()[4:]\n",
    "        raw_data = [line.replace(\";\", '').replace('\\n', '').split(\",\") for line in lines]\n",
    "        data = np.array([ elem for singleList in raw_data for elem in singleList])\n",
    "        data = np.reshape(data, (cities,features))\n",
    "        data = data.astype(np.float)\n",
    "    return data"
   ]
  },
  {
   "cell_type": "code",
   "execution_count": 20,
   "metadata": {},
   "outputs": [],
   "source": [
    "def generate_weights(size, sigma=0.01):\n",
    "    #return np.random.normal(0, sigma, size)\n",
    "    return np.random.uniform(0, 1, size)"
   ]
  },
  {
   "cell_type": "code",
   "execution_count": 94,
   "metadata": {},
   "outputs": [],
   "source": [
    "def neighborhood(idx, epoch, max_range):\n",
    "    nb_range = int(2 - (epoch)//10)\n",
    "    nb_list = [idx]\n",
    "    if(nb_range==2):\n",
    "        if (idx==0):\n",
    "            nb_list.append(idx+1)\n",
    "            nb_list.append(idx+2)\n",
    "            nb_list.append(hidden_nodes-1)\n",
    "            nb_list.append(hidden_nodes-2)\n",
    "        elif(idx==1):\n",
    "            nb_list.append(idx+1)\n",
    "            nb_list.append(idx+2)\n",
    "            nb_list.append(0)\n",
    "            nb_list.append(hidden_nodes-1)\n",
    "        elif(idx==hidden_nodes-1):\n",
    "            nb_list.append(idx-1)\n",
    "            nb_list.append(idx-2)\n",
    "            nb_list.append(0)\n",
    "            nb_list.append(1)\n",
    "        elif(idx==hidden_nodes-2):\n",
    "            nb_list.append(idx-1)\n",
    "            nb_list.append(idx-2)\n",
    "            nb_list.append(idx+1)\n",
    "            nb_list.append(0)\n",
    "        else:\n",
    "            nb_list.append(idx-1)\n",
    "            nb_list.append(idx-2)\n",
    "            nb_list.append(idx+1)\n",
    "            nb_list.append(idx+2)\n",
    "    if(nb_range==1):\n",
    "        if (idx==0):\n",
    "            nb_list.append(idx+1)\n",
    "            nb_list.append(hidden_nodes-1)\n",
    "        elif(idx==hidden_nodes-1):\n",
    "            nb_list.append(idx-1)\n",
    "            nb_list.append(0)\n",
    "        else:\n",
    "            nb_list.append(idx-1)\n",
    "            nb_list.append(idx+1)\n",
    "    return nb_list"
   ]
  },
  {
   "cell_type": "code",
   "execution_count": 95,
   "metadata": {},
   "outputs": [
    {
     "data": {
      "text/plain": [
       "[9]"
      ]
     },
     "execution_count": 95,
     "metadata": {},
     "output_type": "execute_result"
    }
   ],
   "source": [
    "neighborhood(9, 25, hidden_nodes)"
   ]
  },
  {
   "cell_type": "code",
   "execution_count": 97,
   "metadata": {},
   "outputs": [],
   "source": [
    "def train_SOM_cities(inputs, weights, step_size=0.2, epochs=50, eta=0.2):\n",
    "    for epoch in range(epochs):\n",
    "        for cityNdx in range(cities):\n",
    "            # Calculate similarity between input pattern and weights\n",
    "            #  Ignore Sqrt since we only care about the winner\n",
    "            similarity = np.sum(\n",
    "                np.square(inputs[cityNdx,:]-weights), axis=1)\n",
    "            # Select winner\n",
    "            winner = np.argmin(similarity)\n",
    "            # Update weights in neighborhood\n",
    "            nbrs = neighborhood(winner, epoch, hidden_nodes)\n",
    "            weights[nbrs,:] = weights[nbrs,:] + \\\n",
    "              eta*(inputs[cityNdx,:] - weights[nbrs,:])\n",
    "    return weights"
   ]
  },
  {
   "cell_type": "code",
   "execution_count": 98,
   "metadata": {},
   "outputs": [
    {
     "name": "stdout",
     "output_type": "stream",
     "text": [
      "[[0.4    0.4439]\n",
      " [0.2439 0.1463]\n",
      " [0.1707 0.2293]\n",
      " [0.2293 0.761 ]\n",
      " [0.5171 0.9414]\n",
      " [0.8732 0.6536]\n",
      " [0.6878 0.5219]\n",
      " [0.8488 0.3609]\n",
      " [0.6683 0.2536]\n",
      " [0.6195 0.2634]]\n"
     ]
    }
   ],
   "source": [
    "weights = generate_weights((hidden_nodes, features))\n",
    "inputs = get_cities()\n",
    "print(inputs)"
   ]
  },
  {
   "cell_type": "code",
   "execution_count": 99,
   "metadata": {},
   "outputs": [],
   "source": [
    "w_trained = train_SOM_cities(inputs, weights)"
   ]
  },
  {
   "cell_type": "code",
   "execution_count": 100,
   "metadata": {},
   "outputs": [],
   "source": [
    "plt.rcParams[\"figure.figsize\"] = (10,5)\n",
    "\n",
    "def plot_tour(inputs, weights):\n",
    "    outputs = []\n",
    "    for cityNdx in range(cities):\n",
    "        similarity = np.sum(\n",
    "            np.square(inputs[cityNdx,:] - weights), axis=1)\n",
    "        indice = np.argmin(similarity)\n",
    "        outputs.append(weights[indice,:])\n",
    "    outputs.append(inputs[0,:])\n",
    "    outputs = np.asarray(outputs)\n",
    "    #print(outputs)\n",
    "    plt.figure()\n",
    "    plt.scatter(inputs[:,0],inputs[:,1],color='red',label ='Training points')\n",
    "    plt.plot(outputs[:,0],outputs[:,1], color='blue', label = 'The tour')\n",
    "    plt.legend()\n",
    "    plt.show()"
   ]
  },
  {
   "cell_type": "code",
   "execution_count": 101,
   "metadata": {},
   "outputs": [
    {
     "data": {
      "image/png": "[encoded data removed]",
      "text/plain": [
       "<Figure size 720x360 with 1 Axes>"
      ]
     },
     "metadata": {
      "needs_background": "light"
     },
     "output_type": "display_data"
    }
   ],
   "source": [
    "plot_tour(inputs, weights)"
   ]
  },
  {
   "cell_type": "markdown",
   "metadata": {},
   "source": [
    "## 4.3 data clustering"
   ]
  },
  {
   "cell_type": "code",
   "execution_count": 14,
   "metadata": {},
   "outputs": [],
   "source": [
    "import os\n",
    "\n",
    "def get_data(file_name):\n",
    "    if file_name == 'votes.dat':\n",
    "        file_path = os.path.join(\"data/data\", file_name)\n",
    "        return np.loadtxt(file_path, comments=\"%\", delimiter=',').reshape((349, 31))\n",
    "    else:\n",
    "        file_path = os.path.join(\"data/data\", file_name)\n",
    "        data = np.loadtxt(file_path,comments=\"%\")\n",
    "    return data"
   ]
  },
  {
   "cell_type": "code",
   "execution_count": 15,
   "metadata": {},
   "outputs": [],
   "source": [
    "hidden_nodes = 10*10\n",
    "features = 31\n",
    "n_MPs = 349"
   ]
  },
  {
   "cell_type": "code",
   "execution_count": 16,
   "metadata": {},
   "outputs": [],
   "source": [
    "def is_neighbor(idx,winner,size):\n",
    "    y_idx = idx // 10\n",
    "    x_idx = idx % 10\n",
    "    y_winner = winner / 10\n",
    "    x_winner = winner % 10\n",
    "    return np.abs(y_idx - y_winner) + np.abs(x_idx - x_winner) <= size"
   ]
  },
  {
   "cell_type": "code",
   "execution_count": 17,
   "metadata": {},
   "outputs": [
    {
     "name": "stdout",
     "output_type": "stream",
     "text": [
      "20\n",
      "19\n",
      "18\n",
      "17\n",
      "16\n",
      "15\n",
      "14\n",
      "13\n",
      "12\n",
      "11\n",
      "10\n",
      "9\n",
      "8\n",
      "7\n",
      "6\n",
      "5\n",
      "4\n",
      "3\n",
      "2\n",
      "1\n"
     ]
    }
   ],
   "source": [
    "for i in range(20):\n",
    "    neighbourhood_size = round(20*((20-i)/20))\n",
    "    print(neighbourhood_size)"
   ]
  },
  {
   "cell_type": "code",
   "execution_count": 32,
   "metadata": {},
   "outputs": [],
   "source": [
    "def train_SOM_MPs(inputs, weights, epochs=20, eta=0.2):\n",
    "    for epoch in range(epochs):\n",
    "        nb_range =  round(epochs*((epochs-epoch)/epochs))\n",
    "        for m in range(349):\n",
    "            # Calculate similarity between input pattern and weights\n",
    "            #  Ignore Sqrt since we only care about the winner\n",
    "            similarity = np.sum(\n",
    "                np.square(inputs[m,:]-weights), axis=1)\n",
    "            # Select winner\n",
    "            winner = np.argmin(similarity)\n",
    "            # Update weights in neighborhood\n",
    "            for n in range(100):\n",
    "                if is_neighbor(n,winner,nb_range):\n",
    "                    weights[n,:] = weights[n,:] + \\\n",
    "                      eta*(inputs[m,:] - weights[n,:])\n",
    "    return weights"
   ]
  },
  {
   "cell_type": "code",
   "execution_count": 55,
   "metadata": {},
   "outputs": [
    {
     "name": "stdout",
     "output_type": "stream",
     "text": [
      "(349, 31)\n",
      "(349,)\n",
      "[ 1.  1.  1.  1.  1.  1.  1.  1.  1.  1.  1.  1.  1.  1.  1.  1.  1.  1.\n",
      "  1.  1.  1.  1.  1.  1.  1.  1.  1.  1.  1.  2.  2.  2.  2.  2.  2.  2.\n",
      "  2.  2.  2.  2.  2.  2.  2.  2.  2.  2.  2.  2.  2.  2.  2.  2.  2.  2.\n",
      "  2.  2.  2.  2.  2.  2.  2.  2.  2.  2.  2.  2.  2.  2.  3.  3.  3.  3.\n",
      "  3.  3.  3.  3.  3.  3.  3.  3.  4.  4.  4.  4.  4.  4.  4.  4.  4.  4.\n",
      "  4.  5.  5.  5.  5.  5.  5.  5.  5.  5.  5.  5.  5.  5.  5.  5.  5.  5.\n",
      "  6.  6.  6.  6.  6.  6.  6.  6.  6.  6.  6.  6.  6.  7.  7.  7.  7.  7.\n",
      "  7.  7.  8.  8.  8.  8.  8.  8.  8.  8.  8.  9.  9. 10. 10. 10. 10. 10.\n",
      " 10. 11. 11. 11. 11. 11. 11. 11. 11. 11. 12. 12. 12. 12. 12. 12. 12. 12.\n",
      " 12. 12. 13. 13. 13. 13. 13. 13. 13. 13. 13. 13. 13. 13. 13. 13. 14. 14.\n",
      " 14. 14. 14. 14. 14. 14. 14. 14. 14. 15. 15. 15. 15. 15. 15. 15. 15. 15.\n",
      " 15. 15. 16. 16. 16. 16. 16. 16. 16. 16. 16. 16. 16. 16. 16. 16. 16. 16.\n",
      " 16. 16. 17. 17. 17. 17. 17. 17. 17. 17. 17. 17. 17. 17. 17. 18. 18. 18.\n",
      " 18. 18. 18. 18. 18. 18. 18. 19. 19. 19. 19. 19. 19. 19. 20. 20. 20. 20.\n",
      " 20. 20. 20. 20. 20. 21. 21. 21. 21. 21. 21. 21. 21. 21. 21. 21. 22. 22.\n",
      " 22. 22. 22. 22. 22. 22. 22. 22. 22. 23. 23. 23. 23. 23. 23. 23. 23. 23.\n",
      " 23. 24. 24. 24. 24. 24. 24. 24. 24. 24. 24. 24. 25. 25. 25. 25. 25. 25.\n",
      " 25. 25. 25. 25. 25. 26. 26. 26. 26. 26. 26. 26. 26. 26. 26. 27. 27. 27.\n",
      " 27. 27. 27. 28. 28. 28. 28. 28. 28. 28. 28. 28. 28. 28. 29. 29. 29. 29.\n",
      " 29. 29. 29. 29. 29. 29. 29.]\n"
     ]
    }
   ],
   "source": [
    "votes = get_data('votes.dat')\n",
    "genders = get_data('mpsex.dat')\n",
    "parties = get_data('mpparty.dat')\n",
    "districts = get_data('mpdistrict.dat')\n",
    "weights = generate_weights((hidden_nodes, features))\n",
    "print(votes.shape)\n",
    "print(genders.shape)\n",
    "print(districts)"
   ]
  },
  {
   "cell_type": "code",
   "execution_count": 34,
   "metadata": {},
   "outputs": [],
   "source": [
    "trained_weights = train_SOM_MPs(votes,weights)"
   ]
  },
  {
   "cell_type": "code",
   "execution_count": 53,
   "metadata": {},
   "outputs": [],
   "source": [
    "from matplotlib.lines import Line2D\n",
    "plt.rcParams[\"figure.figsize\"] = (8,5)\n",
    "def analyse(votes, w):\n",
    "    genders = np.loadtxt('data/data/mpsex.dat', comments=\"%\")\n",
    "    parties = np.loadtxt('data/data/mpparty.dat', comments=\"%\")\n",
    "    districts = np.loadtxt('data/data/mpdistrict.dat', comments=\"%\")\n",
    "    pos = np.zeros(349)\n",
    "    genders_out = [[] for i in range(100)]\n",
    "    parties_out = [[] for i in range(100)]\n",
    "    districts_out = [[] for i in range(100)]\n",
    "\n",
    "    for i in range(len(pos)):\n",
    "        similarity = np.sum(np.square(votes[i,:]-w), axis=1)\n",
    "        winner = np.argmin(similarity)\n",
    "        pos[i] = winner\n",
    "        genders_out[winner].append(genders[i])\n",
    "        parties_out[winner].append(parties[i])\n",
    "        districts_out[winner].append(districts[i])\n",
    "    unique, counts = np.unique(pos, return_counts=True)\n",
    "\n",
    "    # Plot Genders\n",
    "    fig, ax = plt.subplots() # note we must use plt.subplots, not plt.subplot\n",
    "    colors = ['red','blue']\n",
    "    labels = [\"female\", \"male\"]\n",
    "    for i in range(len(unique)):\n",
    "        y = unique[i] // 10\n",
    "        x = unique[i] % 10\n",
    "        mean_gender = np.mean(genders_out[int(unique[i])]) # this nodes's average\n",
    "        genders, genders_count = np.unique(genders_out[int(unique[i])], return_counts=True)\n",
    "        ax.annotate(str(int(np.max(genders_count)/len(genders_out[int(unique[i])])*100)) + \"%\", xy=(x+1, y+1), fontsize=7, ha=\"center\")\n",
    "        circle = plt.Circle((x+1, y+1), counts[i]/100, color=(mean_gender, 0, (1-mean_gender)))\n",
    "        ax.add_artist(circle)\n",
    "    legend_elements = []\n",
    "    for i in range(2):\n",
    "        legend_elements.append(Line2D([0], [0], marker='o', color='w', label=labels[i],\n",
    "                          markerfacecolor=colors[i], markersize=5))\n",
    "    ax.legend(handles=legend_elements, loc='lower left')\n",
    "    plt.ylim(0, 11)\n",
    "    plt.xlim(0, 11)\n",
    "    plt.title(\"Genders in proportions per node\")\n",
    "    fig.savefig('mps_gender.png')\n",
    "\n",
    "    # Plot Parties\n",
    "    colors = ['r', 'y', 'c', 'pink', 'm', 'g', 'b','orange']\n",
    "    labels = [\"0\", \"1\", \"2\", \"3\", \"4\", \"5\", \"6\", \"7\"]\n",
    "    fig, ax = plt.subplots() # note we must use plt.subplots, not plt.subplot\n",
    "    for i in range(len(unique)):\n",
    "        y = unique[i] // 10\n",
    "        x = unique[i] % 10\n",
    "        parties, parties_count = np.unique(parties_out[int(unique[i])], return_counts=True)\n",
    "        main_party = int(parties[np.argmax(parties_count)])\n",
    "        circle = plt.Circle((x+1, y+1), counts[i]/100, color=colors[main_party])\n",
    "        ax.annotate(str(int(np.max(parties_count)/len(parties_out[int(unique[i])])*100)) + \"%\", xy=(x+1, y+1), fontsize=7, ha=\"center\")\n",
    "        ax.add_artist(circle)\n",
    "    legend_elements = []\n",
    "    for i in range(8):\n",
    "        legend_elements.append(Line2D([0], [0], marker='o', color='w', label=labels[i],\n",
    "                          markerfacecolor=colors[i], markersize=5))\n",
    "    ax.legend(handles=legend_elements, loc='lower left')\n",
    "    plt.ylim(0, 11)\n",
    "    plt.xlim(-2, 11)\n",
    "    plt.title(\"Dominating parties in proportions per node\")\n",
    "    fig.savefig('mps_parties.png')\n",
    "\n",
    "    # Plot Districts\n",
    "    fig, ax = plt.subplots() # note we must use plt.subplots, not plt.subplot\n",
    "    for i in range(len(unique)):\n",
    "        y = unique[i] // 10\n",
    "        x = unique[i] % 10\n",
    "        districts = np.unique(districts_out[int(unique[i])])\n",
    "        circle = plt.Circle((x+1, y+1), counts[i]/100, color='y')\n",
    "        ax.annotate(str(int(len(districts))), xy=(x+1, y+1), fontsize=7, ha=\"center\")\n",
    "        ax.add_artist(circle)\n",
    "    plt.ylim(0, 11)\n",
    "    plt.xlim(0, 11)\n",
    "    plt.title(\"Number of different district per node\")\n",
    "    fig.savefig('mps_district.png')"
   ]
  },
  {
   "cell_type": "code",
   "execution_count": 54,
   "metadata": {},
   "outputs": [
    {
     "data": {
      "image/png": "[encoded data removed]",
      "text/plain": [
       "<Figure size 576x360 with 1 Axes>"
      ]
     },
     "metadata": {
      "needs_background": "light"
     },
     "output_type": "display_data"
    },
    {
     "data": {
      "image/png": "[encoded data removed]",
      "text/plain": [
       "<Figure size 576x360 with 1 Axes>"
      ]
     },
     "metadata": {
      "needs_background": "light"
     },
     "output_type": "display_data"
    },
    {
     "data": {
      "image/png": "[encoded data removed]",
      "text/plain": [
       "<Figure size 576x360 with 1 Axes>"
      ]
     },
     "metadata": {
      "needs_background": "light"
     },
     "output_type": "display_data"
    }
   ],
   "source": [
    "analyse(votes, trained_weights)"
   ]
  },
  {
   "cell_type": "code",
   "execution_count": 5,
   "metadata": {},
   "outputs": [
    {
     "name": "stdout",
     "output_type": "stream",
     "text": [
      "Epoch 0\n",
      "-> n: 20\n",
      "-> lr: 0.2\n",
      "-> lrn: 0.1\n",
      "Epoch 1\n",
      "-> n: 20\n",
      "-> lr: 0.5\n",
      "-> lrn: 0.5\n",
      "Epoch 2\n",
      "-> n: 19\n",
      "-> lr: 0.4829681644624228\n",
      "-> lrn: 0.4829681644624228\n",
      "Epoch 3\n",
      "-> n: 18\n",
      "-> lr: 0.4649024713065809\n",
      "-> lrn: 0.4649024713065809\n",
      "Epoch 4\n",
      "-> n: 17\n",
      "-> lr: 0.44573248080966416\n",
      "-> lrn: 0.44573248080966416\n",
      "Epoch 5\n",
      "-> n: 16\n",
      "-> lr: 0.42538763401805474\n",
      "-> lrn: 0.42538763401805474\n",
      "Epoch 6\n",
      "-> n: 15\n",
      "-> lr: 0.4037999116148849\n",
      "-> lrn: 0.4037999116148849\n",
      "Epoch 7\n",
      "-> n: 14\n",
      "-> lr: 0.38090780370834904\n",
      "-> lrn: 0.38090780370834904\n",
      "Epoch 8\n",
      "-> n: 13\n",
      "-> lr: 0.35666209718238334\n",
      "-> lrn: 0.35666209718238334\n",
      "Epoch 9\n",
      "-> n: 12\n",
      "-> lr: 0.3310341418551564\n",
      "-> lrn: 0.3310341418551564\n",
      "Epoch 10\n",
      "-> n: 11\n",
      "-> lr: 0.30402742338032707\n",
      "-> lrn: 0.30402742338032707\n",
      "Epoch 11\n",
      "-> n: 10\n",
      "-> lr: 0.2756934091433485\n",
      "-> lrn: 0.2756934091433485\n",
      "Epoch 12\n",
      "-> n: 9\n",
      "-> lr: 0.24615264989088037\n",
      "-> lrn: 0.24615264989088037\n",
      "Epoch 13\n",
      "-> n: 8\n",
      "-> lr: 0.2156218230359179\n",
      "-> lrn: 0.2156218230359179\n",
      "Epoch 14\n",
      "-> n: 7\n",
      "-> lr: 0.18444643610924102\n",
      "-> lrn: 0.18444643610924102\n",
      "Epoch 15\n",
      "-> n: 6\n",
      "-> lr: 0.15313666754857339\n",
      "-> lrn: 0.15313666754857339\n",
      "Epoch 16\n",
      "-> n: 5\n",
      "-> lr: 0.12239943085126256\n",
      "-> lrn: 0.12239943085126256\n",
      "Epoch 17\n",
      "-> n: 4\n",
      "-> lr: 0.09315228726265623\n",
      "-> lrn: 0.09315228726265623\n",
      "Epoch 18\n",
      "-> n: 3\n",
      "-> lr: 0.06649431231769665\n",
      "-> lrn: 0.06649431231769665\n",
      "Epoch 19\n",
      "-> n: 2\n",
      "-> lr: 0.04359895232357096\n",
      "-> lrn: 0.04359895232357096\n"
     ]
    },
    {
     "data": {
      "image/png": "[encoded data removed]",
      "text/plain": [
       "<Figure size 432x288 with 1 Axes>"
      ]
     },
     "metadata": {
      "needs_background": "light"
     },
     "output_type": "display_data"
    },
    {
     "data": {
      "image/png": "[encoded data removed]",
      "text/plain": [
       "<Figure size 432x288 with 1 Axes>"
      ]
     },
     "metadata": {
      "needs_background": "light"
     },
     "output_type": "display_data"
    },
    {
     "data": {
      "image/png": "[encoded data removed]",
      "text/plain": [
       "<Figure size 432x288 with 1 Axes>"
      ]
     },
     "metadata": {
      "needs_background": "light"
     },
     "output_type": "display_data"
    }
   ],
   "source": [
    "import numpy as np\n",
    "import matplotlib.pyplot as plt\n",
    "from scipy.spatial.distance import euclidean\n",
    "from matplotlib.lines import Line2D\n",
    "\n",
    "\n",
    "def create_weight_matrix():\n",
    "    w = np.random.uniform(0, 1, (100, 31))\n",
    "    return w\n",
    "\n",
    "\n",
    "def find_closest_w_row(x, w):\n",
    "    d = np.zeros(100)\n",
    "    for i in range(100):\n",
    "        d[i] = euclidean(x, w[i, :])\n",
    "    return np.argmin(d)\n",
    "\n",
    "\n",
    "def is_neighbour(i, ind, size):\n",
    "    \"\"\"\n",
    "    :param i: node index to check if it is a neighbour\n",
    "    :param ind: checking if i is a neighbour of this node ind.\n",
    "    :param size: size of neighbourhood. Ex size = 1 means i-1 and i+1 are neighbours.\n",
    "    :return: True if it is a neighbour, False otherwise\n",
    "    \"\"\"\n",
    "    y_i = i // 10\n",
    "    x_i = i % 10\n",
    "    y_ind = ind / 10\n",
    "    x_ind = ind % 10\n",
    "    return np.abs(y_ind - y_i) + np.abs(x_ind - x_i) <= size\n",
    "\n",
    "\n",
    "def update_w(x, w, ind, eta, eta_n, size):\n",
    "    \"\"\"\n",
    "    updates winner and its neighbours\n",
    "    :param w:\n",
    "    :param ind:\n",
    "    :return:\n",
    "    \"\"\"\n",
    "    for i in range(100):\n",
    "        if i == ind:\n",
    "            w[i, :] += eta * (x - w[i, :])\n",
    "        else:\n",
    "            w[i, :] += eta_n * is_neighbour(i, ind, size) * (x - w[i, :])\n",
    "    return w\n",
    "\n",
    "\n",
    "def move_neurons(eta, eta_n, votes, size, w):\n",
    "    for i in range(349):\n",
    "        ind = find_closest_w_row(votes[i, :], w)\n",
    "        w = update_w(votes[i, :], w, ind, eta, eta_n, size)\n",
    "\n",
    "\n",
    "def train(votes, eta=0.2, nb_epochs=20):\n",
    "    alpha = 0.5\n",
    "    eta_n = eta / 2\n",
    "    w = create_weight_matrix()\n",
    "    neighbourhood_size = 20\n",
    "    for i in range(nb_epochs):\n",
    "        print(\"Epoch\", i)\n",
    "        print(\"-> n:\", neighbourhood_size)\n",
    "        print(\"-> lr:\", eta)\n",
    "        print(\"-> lrn:\", eta_n)\n",
    "        move_neurons(eta, eta_n, votes, neighbourhood_size, w)\n",
    "        # reduce learning rate and neighbourhood\n",
    "        eta = alpha * eta**(i / nb_epochs)\n",
    "        eta_n = alpha * eta_n**(i / nb_epochs)\n",
    "        neighbourhood_size = round(20*((nb_epochs-i)/nb_epochs))\n",
    "    return w\n",
    "\n",
    "\n",
    "def analyse(votes, w):\n",
    "    genders = np.loadtxt('data/data/mpsex.dat', comments=\"%\")\n",
    "    parties = np.loadtxt('data/data/mpparty.dat', comments=\"%\")\n",
    "    districts = np.loadtxt('data/data/mpdistrict.dat', comments=\"%\")\n",
    "    pos = np.zeros(349)\n",
    "    genders_out = [[] for i in range(100)]\n",
    "    parties_out = [[] for i in range(100)]\n",
    "    districts_out = [[] for i in range(100)]\n",
    "\n",
    "    for i in range(len(pos)):\n",
    "        ind = find_closest_w_row(votes[i, :], w)\n",
    "        pos[i] = ind\n",
    "        genders_out[ind].append(genders[i])\n",
    "        parties_out[ind].append(parties[i])\n",
    "        districts_out[ind].append(districts[i])\n",
    "    unique, counts = np.unique(pos, return_counts=True)\n",
    "\n",
    "    # Plot Genders\n",
    "    fig, ax = plt.subplots() # note we must use plt.subplots, not plt.subplot\n",
    "    for i in range(len(unique)):\n",
    "        y = unique[i] // 10\n",
    "        x = unique[i] % 10\n",
    "        mean_gender = np.mean(genders_out[int(unique[i])])\n",
    "        circle = plt.Circle((x+1, y+1), counts[i]/100, color=(mean_gender, 0, (1-mean_gender)))\n",
    "        ax.add_artist(circle)\n",
    "    plt.ylim(0, 11)\n",
    "    plt.xlim(0, 11)\n",
    "    plt.title(\"Genders (blue for male, red for female)\")\n",
    "    #fig.savefig('images/mps_gender.png')\n",
    "\n",
    "    # Plot Parties\n",
    "    colors = ['orange', 'r', 'y', 'm', 'c', 'k', 'g', 'b']\n",
    "    labels = [\"no p\", \"m\", \"fp\", \"s\", \"v\", \"mp\", \"kd\", \"c\"]\n",
    "    fig, ax = plt.subplots() # note we must use plt.subplots, not plt.subplot\n",
    "    for i in range(len(unique)):\n",
    "        y = unique[i] // 10\n",
    "        x = unique[i] % 10\n",
    "        parties, parties_count = np.unique(parties_out[int(unique[i])], return_counts=True)\n",
    "        main_party = int(parties[np.argmax(parties_count)])\n",
    "        circle = plt.Circle((x+1, y+1), counts[i]/100, color=colors[main_party])\n",
    "        ax.annotate(str(int(np.max(parties_count)/len(parties_out[int(unique[i])])*100)) + \"%\", xy=(x+1, y+1), fontsize=7, ha=\"center\")\n",
    "        ax.add_artist(circle)\n",
    "    legend_elements = []\n",
    "    for i in range(8):\n",
    "        legend_elements.append(Line2D([0], [0], marker='o', color='w', label=labels[i],\n",
    "                          markerfacecolor=colors[i], markersize=5))\n",
    "    ax.legend(handles=legend_elements, loc='lower left')\n",
    "    plt.ylim(0, 11)\n",
    "    plt.xlim(-2, 11)\n",
    "    plt.title(\"Dominating parties & their proportions\")\n",
    "    #fig.savefig('images/mps_parties.png')\n",
    "\n",
    "    # Plot Districts\n",
    "    fig, ax = plt.subplots() # note we must use plt.subplots, not plt.subplot\n",
    "    for i in range(len(unique)):\n",
    "        y = unique[i] // 10\n",
    "        x = unique[i] % 10\n",
    "        districts = np.unique(districts_out[int(unique[i])])\n",
    "        circle = plt.Circle((x+1, y+1), counts[i]/100, color='c')\n",
    "        ax.annotate(str(int(len(districts))), xy=(x+1, y+1), fontsize=7, ha=\"center\")\n",
    "        ax.add_artist(circle)\n",
    "    plt.ylim(0, 11)\n",
    "    plt.xlim(0, 11)\n",
    "    plt.title(\"Number of district per output\")\n",
    "    #fig.savefig('images/mps_district.png')\n",
    "\n",
    "\n",
    "def import_votes():\n",
    "    return np.loadtxt('data/data/votes.dat', comments=\"%\", delimiter=',').reshape((349, 31))\n",
    "\n",
    "\n",
    "def main():\n",
    "    votes = import_votes()\n",
    "    w = train(votes)\n",
    "    analyse(votes, w)\n",
    "\n",
    "\n",
    "if __name__ == \"__main__\":\n",
    "    main()"
   ]
  },
  {
   "cell_type": "code",
   "execution_count": null,
   "metadata": {},
   "outputs": [],
   "source": []
  }
 ],
 "metadata": {
  "kernelspec": {
   "display_name": "Python 3",
   "language": "python",
   "name": "python3"
  },
  "language_info": {
   "codemirror_mode": {
    "name": "ipython",
    "version": 3
   },
   "file_extension": ".py",
   "mimetype": "text/x-python",
   "name": "python",
   "nbconvert_exporter": "python",
   "pygments_lexer": "ipython3",
   "version": "3.6.9"
  }
 },
 "nbformat": 4,
 "nbformat_minor": 4
}
